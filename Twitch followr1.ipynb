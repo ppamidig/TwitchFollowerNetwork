{
 "cells": [
  {
   "cell_type": "code",
   "execution_count": 23,
   "metadata": {
    "collapsed": true
   },
   "outputs": [],
   "source": [
    "import os\n",
    "import numpy as np\n",
    "import matplotlib.pyplot as plt\n",
    "import pandas as pd\n",
    "import networkx as nx\n",
    "import requests\n",
    "import datetime\n",
    "\n",
    "# recusive loop for checking people"
   ]
  },
  {
   "cell_type": "code",
   "execution_count": 24,
   "metadata": {
    "collapsed": true
   },
   "outputs": [],
   "source": [
    "url = 'https://api.twitch.tv/helix/users?login=apamapam'\n",
    "head = {\"Client-ID\": 'vatg999k30nudgsaxwgn5d5be74p7z'}"
   ]
  },
  {
   "cell_type": "code",
   "execution_count": 60,
   "metadata": {
    "collapsed": true
   },
   "outputs": [],
   "source": [
    "def getAllFollows(sourceID):\n",
    "    head = {\"Client-ID\": 'vatg999k30nudgsaxwgn5d5be74p7z'}\n",
    "    firstReq = f'https://api.twitch.tv/helix/users/follows?from_id={sourceID}&first=100'\n",
    "    r = requests.get(firstReq, headers=head)\n",
    "    print('req')\n",
    "    q = r.json()\n",
    "    dataArray = np.array(q['data'])\n",
    "    if q['total']<=100:\n",
    "        return dataArray\n",
    "    else:\n",
    "        numLeft = q['total']-100\n",
    "        while numLeft>0:\n",
    "            cursor = q['pagination']['cursor']\n",
    "            subreq = f'https://api.twitch.tv/helix/users/follows?from_id={sourceID}&first=100&after={cursor}'\n",
    "            r = requests.get(subreq, headers=head)\n",
    "            print('req')\n",
    "            q = r.json()\n",
    "            dataArray  = np.append(dataArray, np.array(q['data']))\n",
    "            numLeft  = numLeft - 100\n",
    "        return dataArray\n"
   ]
  },
  {
   "cell_type": "code",
   "execution_count": 61,
   "metadata": {
    "collapsed": true
   },
   "outputs": [],
   "source": [
    "def IDfromName(name):\n",
    "    url = f'https://api.twitch.tv/helix/users?login={name}'\n",
    "    head = {\"Client-ID\": 'vatg999k30nudgsaxwgn5d5be74p7z'}\n",
    "    r = requests.get(url, headers = head)\n",
    "    rd = r.json()\n",
    "    print('req')\n",
    "    return int(rd['data'][0]['id'])"
   ]
  },
  {
   "cell_type": "code",
   "execution_count": 62,
   "metadata": {},
   "outputs": [],
   "source": [
    "def NamefromID(sourceId):\n",
    "    url = f'https://api.twitch.tv/helix/users?id={sourceId}'\n",
    "    head = {\"Client-ID\": 'vatg999k30nudgsaxwgn5d5be74p7z'}\n",
    "    r = requests.get(url, headers = head)\n",
    "    rd = r.json()\n",
    "    print('req')\n",
    "    return rd['data'][0]['display_name']"
   ]
  },
  {
   "cell_type": "code",
   "execution_count": 63,
   "metadata": {},
   "outputs": [],
   "source": [
    "def DyadicFollow(followDict):\n",
    "    sourceId = followDict['from_id']\n",
    "    toId = followDict['to_id']\n",
    "    toArray = getAllFollows(toId)\n",
    "    for d in toArray:\n",
    "        if d['to_id'] == sourceId:\n",
    "            return True\n",
    "    return False"
   ]
  },
  {
   "cell_type": "code",
   "execution_count": 64,
   "metadata": {},
   "outputs": [],
   "source": [
    "def Twitchtimetoint(time_str):\n",
    "    dt = datetime.datetime.strptime(time_str,'%Y-%m-%dT%H:%M:%SZ')\n",
    "    return dt.timestamp()"
   ]
  },
  {
   "cell_type": "code",
   "execution_count": 65,
   "metadata": {},
   "outputs": [
    {
     "name": "stdout",
     "output_type": "stream",
     "text": [
      "req\n",
      "req\n",
      "{'from_id': '57868280', 'to_id': '36769016', 'followed_at': '2018-07-20T02:39:15Z'}\n",
      "req\n",
      "req\n",
      "req\n",
      "{'from_id': '57868280', 'to_id': '144248160', 'followed_at': '2018-07-11T03:14:55Z'}\n",
      "req\n",
      "{'from_id': '57868280', 'to_id': '69031635', 'followed_at': '2018-06-15T06:30:04Z'}\n",
      "req\n",
      "{'from_id': '57868280', 'to_id': '64291396', 'followed_at': '2018-05-19T18:42:53Z'}\n",
      "req\n",
      "{'from_id': '57868280', 'to_id': '140307264', 'followed_at': '2018-05-19T06:42:22Z'}\n",
      "req\n",
      "{'from_id': '57868280', 'to_id': '37826169', 'followed_at': '2018-05-15T17:58:50Z'}\n",
      "req\n",
      "{'from_id': '57868280', 'to_id': '43131877', 'followed_at': '2018-05-11T23:15:39Z'}\n",
      "req\n",
      "{'from_id': '57868280', 'to_id': '82841994', 'followed_at': '2018-05-03T21:21:05Z'}\n",
      "req\n",
      "req\n",
      "req\n",
      "{'from_id': '57868280', 'to_id': '31310249', 'followed_at': '2018-04-24T16:02:02Z'}\n",
      "req\n",
      "req\n",
      "{'from_id': '57868280', 'to_id': '96455799', 'followed_at': '2018-04-24T16:01:26Z'}\n",
      "req\n",
      "{'from_id': '57868280', 'to_id': '51552614', 'followed_at': '2018-04-23T07:15:08Z'}\n",
      "req\n",
      "req\n",
      "{'from_id': '57868280', 'to_id': '43556934', 'followed_at': '2018-04-23T04:34:16Z'}\n",
      "req\n",
      "req\n",
      "req\n",
      "{'from_id': '57868280', 'to_id': '41801143', 'followed_at': '2018-04-23T04:33:57Z'}\n",
      "req\n",
      "req\n",
      "{'from_id': '57868280', 'to_id': '52463679', 'followed_at': '2018-04-23T04:07:45Z'}\n",
      "req\n",
      "req\n",
      "{'from_id': '57868280', 'to_id': '96599688', 'followed_at': '2018-04-23T04:02:40Z'}\n",
      "req\n",
      "{'from_id': '57868280', 'to_id': '40017619', 'followed_at': '2018-04-21T00:00:15Z'}\n",
      "req\n",
      "{'from_id': '57868280', 'to_id': '99523959', 'followed_at': '2018-04-20T04:13:52Z'}\n",
      "req\n",
      "req\n"
     ]
    },
    {
     "ename": "KeyError",
     "evalue": "'data'",
     "output_type": "error",
     "traceback": [
      "\u001b[1;31m---------------------------------------------------------------------------\u001b[0m",
      "\u001b[1;31mKeyError\u001b[0m                                  Traceback (most recent call last)",
      "\u001b[1;32m<ipython-input-65-02161278bb69>\u001b[0m in \u001b[0;36m<module>\u001b[1;34m()\u001b[0m\n\u001b[0;32m      3\u001b[0m \u001b[1;32mfor\u001b[0m \u001b[0mfd\u001b[0m \u001b[1;32min\u001b[0m \u001b[0marray1\u001b[0m\u001b[1;33m:\u001b[0m\u001b[1;33m\u001b[0m\u001b[0m\n\u001b[0;32m      4\u001b[0m     \u001b[0mprint\u001b[0m\u001b[1;33m(\u001b[0m\u001b[0mfd\u001b[0m\u001b[1;33m)\u001b[0m\u001b[1;33m\u001b[0m\u001b[0m\n\u001b[1;32m----> 5\u001b[1;33m     \u001b[1;32mif\u001b[0m \u001b[0mDyadicFollow\u001b[0m\u001b[1;33m(\u001b[0m\u001b[0mfd\u001b[0m\u001b[1;33m)\u001b[0m\u001b[1;33m==\u001b[0m\u001b[1;32mTrue\u001b[0m\u001b[1;33m:\u001b[0m\u001b[1;33m\u001b[0m\u001b[0m\n\u001b[0m\u001b[0;32m      6\u001b[0m         \u001b[0mprint\u001b[0m\u001b[1;33m(\u001b[0m\u001b[0mfd\u001b[0m\u001b[1;33m[\u001b[0m\u001b[1;34m'to_id'\u001b[0m\u001b[1;33m]\u001b[0m\u001b[1;33m,\u001b[0m\u001b[0mfd\u001b[0m\u001b[1;33m[\u001b[0m\u001b[1;34m'from_id'\u001b[0m\u001b[1;33m]\u001b[0m\u001b[1;33m)\u001b[0m\u001b[1;33m\u001b[0m\u001b[0m\n",
      "\u001b[1;32m<ipython-input-63-9e3a1e95e327>\u001b[0m in \u001b[0;36mDyadicFollow\u001b[1;34m(followDict)\u001b[0m\n\u001b[0;32m      2\u001b[0m     \u001b[0msourceId\u001b[0m \u001b[1;33m=\u001b[0m \u001b[0mfollowDict\u001b[0m\u001b[1;33m[\u001b[0m\u001b[1;34m'from_id'\u001b[0m\u001b[1;33m]\u001b[0m\u001b[1;33m\u001b[0m\u001b[0m\n\u001b[0;32m      3\u001b[0m     \u001b[0mtoId\u001b[0m \u001b[1;33m=\u001b[0m \u001b[0mfollowDict\u001b[0m\u001b[1;33m[\u001b[0m\u001b[1;34m'to_id'\u001b[0m\u001b[1;33m]\u001b[0m\u001b[1;33m\u001b[0m\u001b[0m\n\u001b[1;32m----> 4\u001b[1;33m     \u001b[0mtoArray\u001b[0m \u001b[1;33m=\u001b[0m \u001b[0mgetAllFollows\u001b[0m\u001b[1;33m(\u001b[0m\u001b[0mtoId\u001b[0m\u001b[1;33m)\u001b[0m\u001b[1;33m\u001b[0m\u001b[0m\n\u001b[0m\u001b[0;32m      5\u001b[0m     \u001b[1;32mfor\u001b[0m \u001b[0md\u001b[0m \u001b[1;32min\u001b[0m \u001b[0mtoArray\u001b[0m\u001b[1;33m:\u001b[0m\u001b[1;33m\u001b[0m\u001b[0m\n\u001b[0;32m      6\u001b[0m         \u001b[1;32mif\u001b[0m \u001b[0md\u001b[0m\u001b[1;33m[\u001b[0m\u001b[1;34m'to_id'\u001b[0m\u001b[1;33m]\u001b[0m \u001b[1;33m==\u001b[0m \u001b[0msourceId\u001b[0m\u001b[1;33m:\u001b[0m\u001b[1;33m\u001b[0m\u001b[0m\n",
      "\u001b[1;32m<ipython-input-60-38974550b077>\u001b[0m in \u001b[0;36mgetAllFollows\u001b[1;34m(sourceID)\u001b[0m\n\u001b[0;32m     16\u001b[0m             \u001b[0mprint\u001b[0m\u001b[1;33m(\u001b[0m\u001b[1;34m'req'\u001b[0m\u001b[1;33m)\u001b[0m\u001b[1;33m\u001b[0m\u001b[0m\n\u001b[0;32m     17\u001b[0m             \u001b[0mq\u001b[0m \u001b[1;33m=\u001b[0m \u001b[0mr\u001b[0m\u001b[1;33m.\u001b[0m\u001b[0mjson\u001b[0m\u001b[1;33m(\u001b[0m\u001b[1;33m)\u001b[0m\u001b[1;33m\u001b[0m\u001b[0m\n\u001b[1;32m---> 18\u001b[1;33m             \u001b[0mdataArray\u001b[0m  \u001b[1;33m=\u001b[0m \u001b[0mnp\u001b[0m\u001b[1;33m.\u001b[0m\u001b[0mappend\u001b[0m\u001b[1;33m(\u001b[0m\u001b[0mdataArray\u001b[0m\u001b[1;33m,\u001b[0m \u001b[0mnp\u001b[0m\u001b[1;33m.\u001b[0m\u001b[0marray\u001b[0m\u001b[1;33m(\u001b[0m\u001b[0mq\u001b[0m\u001b[1;33m[\u001b[0m\u001b[1;34m'data'\u001b[0m\u001b[1;33m]\u001b[0m\u001b[1;33m)\u001b[0m\u001b[1;33m)\u001b[0m\u001b[1;33m\u001b[0m\u001b[0m\n\u001b[0m\u001b[0;32m     19\u001b[0m             \u001b[0mnumLeft\u001b[0m  \u001b[1;33m=\u001b[0m \u001b[0mnumLeft\u001b[0m \u001b[1;33m-\u001b[0m \u001b[1;36m100\u001b[0m\u001b[1;33m\u001b[0m\u001b[0m\n\u001b[0;32m     20\u001b[0m         \u001b[1;32mreturn\u001b[0m \u001b[0mdataArray\u001b[0m\u001b[1;33m\u001b[0m\u001b[0m\n",
      "\u001b[1;31mKeyError\u001b[0m: 'data'"
     ]
    }
   ],
   "source": [
    "pranav = IDfromName('imbadatpoe')\n",
    "array1 = getAllFollows(pranav)\n",
    "for fd in array1:\n",
    "    print(fd)\n",
    "    if DyadicFollow(fd)==True:\n",
    "        print(fd['to_id'],fd['from_id'])"
   ]
  },
  {
   "cell_type": "code",
   "execution_count": 31,
   "metadata": {},
   "outputs": [
    {
     "ename": "KeyError",
     "evalue": "'data'",
     "output_type": "error",
     "traceback": [
      "\u001b[1;31m---------------------------------------------------------------------------\u001b[0m",
      "\u001b[1;31mKeyError\u001b[0m                                  Traceback (most recent call last)",
      "\u001b[1;32m<ipython-input-31-9b04ee844ae6>\u001b[0m in \u001b[0;36m<module>\u001b[1;34m()\u001b[0m\n\u001b[1;32m----> 1\u001b[1;33m \u001b[0mgetAllFollows\u001b[0m\u001b[1;33m(\u001b[0m\u001b[0mIDfromName\u001b[0m\u001b[1;33m(\u001b[0m\u001b[1;34m'imbadatpoe'\u001b[0m\u001b[1;33m)\u001b[0m\u001b[1;33m)\u001b[0m\u001b[1;33m\u001b[0m\u001b[0m\n\u001b[0m",
      "\u001b[1;32m<ipython-input-26-31244536ae4a>\u001b[0m in \u001b[0;36mIDfromName\u001b[1;34m(name)\u001b[0m\n\u001b[0;32m      4\u001b[0m     \u001b[0mr\u001b[0m \u001b[1;33m=\u001b[0m \u001b[0mrequests\u001b[0m\u001b[1;33m.\u001b[0m\u001b[0mget\u001b[0m\u001b[1;33m(\u001b[0m\u001b[0murl\u001b[0m\u001b[1;33m,\u001b[0m \u001b[0mheaders\u001b[0m \u001b[1;33m=\u001b[0m \u001b[0mhead\u001b[0m\u001b[1;33m)\u001b[0m\u001b[1;33m\u001b[0m\u001b[0m\n\u001b[0;32m      5\u001b[0m     \u001b[0mrd\u001b[0m \u001b[1;33m=\u001b[0m \u001b[0mr\u001b[0m\u001b[1;33m.\u001b[0m\u001b[0mjson\u001b[0m\u001b[1;33m(\u001b[0m\u001b[1;33m)\u001b[0m\u001b[1;33m\u001b[0m\u001b[0m\n\u001b[1;32m----> 6\u001b[1;33m     \u001b[1;32mreturn\u001b[0m \u001b[0mint\u001b[0m\u001b[1;33m(\u001b[0m\u001b[0mrd\u001b[0m\u001b[1;33m[\u001b[0m\u001b[1;34m'data'\u001b[0m\u001b[1;33m]\u001b[0m\u001b[1;33m[\u001b[0m\u001b[1;36m0\u001b[0m\u001b[1;33m]\u001b[0m\u001b[1;33m[\u001b[0m\u001b[1;34m'id'\u001b[0m\u001b[1;33m]\u001b[0m\u001b[1;33m)\u001b[0m\u001b[1;33m\u001b[0m\u001b[0m\n\u001b[0m",
      "\u001b[1;31mKeyError\u001b[0m: 'data'"
     ]
    }
   ],
   "source": [
    "getAllFollows(IDfromName('imbadatpoe'))"
   ]
  },
  {
   "cell_type": "code",
   "execution_count": 71,
   "metadata": {},
   "outputs": [
    {
     "name": "stdout",
     "output_type": "stream",
     "text": [
      "req\n",
      "57868280\n",
      "req\n",
      "45257085\n"
     ]
    }
   ],
   "source": [
    "print(IDfromName('imbadatpoe'))\n",
    "print(IDfromName('mrkillswitch'))"
   ]
  },
  {
   "cell_type": "code",
   "execution_count": 85,
   "metadata": {},
   "outputs": [
    {
     "name": "stdout",
     "output_type": "stream",
     "text": [
      "{'total': 1, 'data': [{'from_id': '57868280', 'to_id': '56543072', 'followed_at': '2015-12-10T05:15:37Z'}], 'pagination': {'cursor': 'eyJiIjpudWxsLCJhIjoiIn0'}}\n"
     ]
    }
   ],
   "source": [
    "url = 'https://api.twitch.tv/helix/users?login=apamapam'\n",
    "head = {\"Client-ID\": 'vatg999k30nudgsaxwgn5d5be74p7z', }\n",
    "Req = f'https://api.twitch.tv/helix/users/follows?to_id=56543072&from_id=57868280'\n",
    "r1 = requests.get(Req, headers=head)\n",
    "q1 = r1.json()\n",
    "print(q1)"
   ]
  },
  {
   "cell_type": "code",
   "execution_count": 47,
   "metadata": {},
   "outputs": [],
   "source": [
    "pranav = IDfromName('imbadatpoe')\n",
    "array1 = getAllFollows(pranav)"
   ]
  },
  {
   "cell_type": "code",
   "execution_count": 84,
   "metadata": {},
   "outputs": [
    {
     "name": "stdout",
     "output_type": "stream",
     "text": [
      "req\n"
     ]
    },
    {
     "data": {
      "text/plain": [
       "'ssumdaylol'"
      ]
     },
     "execution_count": 84,
     "metadata": {},
     "output_type": "execute_result"
    }
   ],
   "source": [
    "NamefromID(144248160)"
   ]
  },
  {
   "cell_type": "code",
   "execution_count": null,
   "metadata": {},
   "outputs": [],
   "source": []
  }
 ],
 "metadata": {
  "kernelspec": {
   "display_name": "Python 3",
   "language": "python",
   "name": "python3"
  },
  "language_info": {
   "codemirror_mode": {
    "name": "ipython",
    "version": 3
   },
   "file_extension": ".py",
   "mimetype": "text/x-python",
   "name": "python",
   "nbconvert_exporter": "python",
   "pygments_lexer": "ipython3",
   "version": "3.6.5"
  }
 },
 "nbformat": 4,
 "nbformat_minor": 2
}
