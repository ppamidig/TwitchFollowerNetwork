{
 "cells": [
  {
   "cell_type": "code",
   "execution_count": 15,
   "metadata": {
    "collapsed": true
   },
   "outputs": [],
   "source": [
    "import os\n",
    "import numpy as np\n",
    "import matplotlib.pyplot as plt\n",
    "import pandas as pd\n",
    "import networkx as nx\n",
    "import requests\n",
    "\n",
    "# recusive loop for checking people"
   ]
  },
  {
   "cell_type": "code",
   "execution_count": 64,
   "metadata": {
    "collapsed": true
   },
   "outputs": [],
   "source": [
    "url = 'https://api.twitch.tv/helix/users?login=apamapam'\n"
   ]
  },
  {
   "cell_type": "code",
   "execution_count": 65,
   "metadata": {
    "collapsed": true
   },
   "outputs": [],
   "source": [
    "head = {\"Client-ID\": 'vatg999k30nudgsaxwgn5d5be74p7z'}"
   ]
  },
  {
   "cell_type": "code",
   "execution_count": 66,
   "metadata": {
    "collapsed": true
   },
   "outputs": [],
   "source": [
    "r = requests.get(url, headers = head)"
   ]
  },
  {
   "cell_type": "code",
   "execution_count": 67,
   "metadata": {},
   "outputs": [
    {
     "data": {
      "text/plain": [
       "<Response [200]>"
      ]
     },
     "execution_count": 67,
     "metadata": {},
     "output_type": "execute_result"
    }
   ],
   "source": [
    "r"
   ]
  },
  {
   "cell_type": "code",
   "execution_count": 68,
   "metadata": {},
   "outputs": [
    {
     "data": {
      "text/plain": [
       "{'data': [{'broadcaster_type': '',\n",
       "   'description': 'TRASH GAMER ---WEED ENTHUSIAST #420BLAZEIT------ZAPMAN MOD',\n",
       "   'display_name': 'APAMAPAM',\n",
       "   'id': '56543072',\n",
       "   'login': 'apamapam',\n",
       "   'offline_image_url': '',\n",
       "   'profile_image_url': 'https://static-cdn.jtvnw.net/jtv_user_pictures/3af41652-b063-4b88-a384-daa72df90247-profile_image-300x300.jpg',\n",
       "   'type': '',\n",
       "   'view_count': 627}]}"
      ]
     },
     "execution_count": 68,
     "metadata": {},
     "output_type": "execute_result"
    }
   ],
   "source": [
    "r.json()"
   ]
  },
  {
   "cell_type": "code",
   "execution_count": 71,
   "metadata": {
    "collapsed": true
   },
   "outputs": [],
   "source": [
    "rf = requests.get('https://api.twitch.tv/helix/users/follows?from_id=56543072',headers=head)"
   ]
  },
  {
   "cell_type": "code",
   "execution_count": 72,
   "metadata": {},
   "outputs": [
    {
     "name": "stdout",
     "output_type": "stream",
     "text": [
      "{'total': 179, 'data': [{'from_id': '56543072', 'to_id': '76278701', 'followed_at': '2018-07-14T20:56:56Z'}, {'from_id': '56543072', 'to_id': '50147909', 'followed_at': '2018-07-12T03:46:13Z'}, {'from_id': '56543072', 'to_id': '82120806', 'followed_at': '2018-07-03T23:10:49Z'}, {'from_id': '56543072', 'to_id': '22510310', 'followed_at': '2018-06-26T01:46:41Z'}, {'from_id': '56543072', 'to_id': '105911954', 'followed_at': '2018-06-20T06:57:40Z'}, {'from_id': '56543072', 'to_id': '55125740', 'followed_at': '2018-06-12T23:11:54Z'}, {'from_id': '56543072', 'to_id': '66285218', 'followed_at': '2018-06-10T00:54:43Z'}, {'from_id': '56543072', 'to_id': '127651530', 'followed_at': '2018-06-02T00:08:09Z'}, {'from_id': '56543072', 'to_id': '101134599', 'followed_at': '2018-05-26T23:00:42Z'}, {'from_id': '56543072', 'to_id': '29829912', 'followed_at': '2018-05-24T13:24:25Z'}, {'from_id': '56543072', 'to_id': '91628709', 'followed_at': '2018-05-19T18:31:10Z'}, {'from_id': '56543072', 'to_id': '39011402', 'followed_at': '2018-05-19T18:31:09Z'}, {'from_id': '56543072', 'to_id': '30032977', 'followed_at': '2018-05-05T17:46:31Z'}, {'from_id': '56543072', 'to_id': '130028916', 'followed_at': '2018-04-24T15:04:45Z'}, {'from_id': '56543072', 'to_id': '39810003', 'followed_at': '2018-04-20T07:18:43Z'}, {'from_id': '56543072', 'to_id': '24538518', 'followed_at': '2018-04-12T02:34:36Z'}, {'from_id': '56543072', 'to_id': '122975091', 'followed_at': '2018-04-03T15:42:27Z'}, {'from_id': '56543072', 'to_id': '195320921', 'followed_at': '2018-04-03T15:42:20Z'}, {'from_id': '56543072', 'to_id': '40397064', 'followed_at': '2018-04-01T01:55:55Z'}, {'from_id': '56543072', 'to_id': '150011257', 'followed_at': '2018-03-11T08:27:57Z'}], 'pagination': {'cursor': 'eyJiIjpudWxsLCJhIjoiMTUyMDc1Njg3Nzc4MDgzOTAwMCJ9'}}\n"
     ]
    }
   ],
   "source": [
    "#print(rf.json())\n",
    "q = rf.json()\n",
    "\n",
    "print(q)"
   ]
  },
  {
   "cell_type": "code",
   "execution_count": 76,
   "metadata": {
    "collapsed": true
   },
   "outputs": [],
   "source": [
    "def getAllFollows(sourceID):\n",
    "    head = {\"Client-ID\": 'vatg999k30nudgsaxwgn5d5be74p7z'}\n",
    "    firstReq = f'https://api.twitch.tv/helix/users/follows?from_id={sourceID}&first=100'\n",
    "    r = requests.get(firstReq, headers=head)\n",
    "    q = r.json()\n",
    "    dataArray = np.array(q['data'])\n",
    "    if q['total']<=100:\n",
    "        return dataArray\n",
    "    else:\n",
    "        numLeft = q['total']-100\n",
    "        while numLeft>0:\n",
    "            numFetch=100\n",
    "            if numLeft<100:\n",
    "                numFetch = numLeft\n",
    "            cursor = q['pagination']['cursor']\n",
    "            subreq = f'https://api.twitch.tv/helix/users/follows?from_id={sourceID}&first={numFetch}&cursor={cursor}'\n",
    "            r = requests.get(subreq, headers=head)\n",
    "            q = r.json()\n",
    "            dataArray  = np.append(dataArray, np.array(q['data']))\n",
    "            numLeft  = numLeft - 100\n",
    "        return dataArray\n"
   ]
  },
  {
   "cell_type": "code",
   "execution_count": 77,
   "metadata": {
    "collapsed": true
   },
   "outputs": [],
   "source": [
    "asd = getAllFollows(56543072)"
   ]
  },
  {
   "cell_type": "code",
   "execution_count": 78,
   "metadata": {},
   "outputs": [
    {
     "data": {
      "text/plain": [
       "array([ {'from_id': '56543072', 'to_id': '76278701', 'followed_at': '2018-07-14T20:56:56Z'},\n",
       "       {'from_id': '56543072', 'to_id': '50147909', 'followed_at': '2018-07-12T03:46:13Z'},\n",
       "       {'from_id': '56543072', 'to_id': '82120806', 'followed_at': '2018-07-03T23:10:49Z'},\n",
       "       {'from_id': '56543072', 'to_id': '22510310', 'followed_at': '2018-06-26T01:46:41Z'},\n",
       "       {'from_id': '56543072', 'to_id': '105911954', 'followed_at': '2018-06-20T06:57:40Z'},\n",
       "       {'from_id': '56543072', 'to_id': '55125740', 'followed_at': '2018-06-12T23:11:54Z'},\n",
       "       {'from_id': '56543072', 'to_id': '66285218', 'followed_at': '2018-06-10T00:54:43Z'},\n",
       "       {'from_id': '56543072', 'to_id': '127651530', 'followed_at': '2018-06-02T00:08:09Z'},\n",
       "       {'from_id': '56543072', 'to_id': '101134599', 'followed_at': '2018-05-26T23:00:42Z'},\n",
       "       {'from_id': '56543072', 'to_id': '29829912', 'followed_at': '2018-05-24T13:24:25Z'},\n",
       "       {'from_id': '56543072', 'to_id': '91628709', 'followed_at': '2018-05-19T18:31:10Z'},\n",
       "       {'from_id': '56543072', 'to_id': '39011402', 'followed_at': '2018-05-19T18:31:09Z'},\n",
       "       {'from_id': '56543072', 'to_id': '30032977', 'followed_at': '2018-05-05T17:46:31Z'},\n",
       "       {'from_id': '56543072', 'to_id': '130028916', 'followed_at': '2018-04-24T15:04:45Z'},\n",
       "       {'from_id': '56543072', 'to_id': '39810003', 'followed_at': '2018-04-20T07:18:43Z'},\n",
       "       {'from_id': '56543072', 'to_id': '24538518', 'followed_at': '2018-04-12T02:34:36Z'},\n",
       "       {'from_id': '56543072', 'to_id': '122975091', 'followed_at': '2018-04-03T15:42:27Z'},\n",
       "       {'from_id': '56543072', 'to_id': '195320921', 'followed_at': '2018-04-03T15:42:20Z'},\n",
       "       {'from_id': '56543072', 'to_id': '40397064', 'followed_at': '2018-04-01T01:55:55Z'},\n",
       "       {'from_id': '56543072', 'to_id': '150011257', 'followed_at': '2018-03-11T08:27:57Z'},\n",
       "       {'from_id': '56543072', 'to_id': '104170168', 'followed_at': '2018-03-06T21:19:07Z'},\n",
       "       {'from_id': '56543072', 'to_id': '25871845', 'followed_at': '2018-03-06T00:30:41Z'},\n",
       "       {'from_id': '56543072', 'to_id': '133475452', 'followed_at': '2018-03-05T01:21:27Z'},\n",
       "       {'from_id': '56543072', 'to_id': '91751921', 'followed_at': '2018-03-04T07:52:16Z'},\n",
       "       {'from_id': '56543072', 'to_id': '36029255', 'followed_at': '2018-03-03T22:22:57Z'},\n",
       "       {'from_id': '56543072', 'to_id': '73340652', 'followed_at': '2018-03-03T07:07:59Z'},\n",
       "       {'from_id': '56543072', 'to_id': '61987098', 'followed_at': '2018-02-27T22:13:42Z'},\n",
       "       {'from_id': '56543072', 'to_id': '109525045', 'followed_at': '2018-02-27T15:58:23Z'},\n",
       "       {'from_id': '56543072', 'to_id': '43062569', 'followed_at': '2018-02-26T21:34:25Z'},\n",
       "       {'from_id': '56543072', 'to_id': '85982839', 'followed_at': '2018-02-24T15:50:37Z'},\n",
       "       {'from_id': '56543072', 'to_id': '75781410', 'followed_at': '2018-02-22T16:17:30Z'},\n",
       "       {'from_id': '56543072', 'to_id': '141917465', 'followed_at': '2018-02-19T20:27:22Z'},\n",
       "       {'from_id': '56543072', 'to_id': '115137875', 'followed_at': '2018-02-17T00:16:36Z'},\n",
       "       {'from_id': '56543072', 'to_id': '73148560', 'followed_at': '2018-02-14T16:53:22Z'},\n",
       "       {'from_id': '56543072', 'to_id': '41763780', 'followed_at': '2018-02-09T00:14:25Z'},\n",
       "       {'from_id': '56543072', 'to_id': '67723589', 'followed_at': '2018-02-08T23:14:10Z'},\n",
       "       {'from_id': '56543072', 'to_id': '89886036', 'followed_at': '2018-02-03T00:56:42Z'},\n",
       "       {'from_id': '56543072', 'to_id': '65137383', 'followed_at': '2018-01-27T07:03:54Z'},\n",
       "       {'from_id': '56543072', 'to_id': '73722580', 'followed_at': '2018-01-24T15:21:25Z'},\n",
       "       {'from_id': '56543072', 'to_id': '128476677', 'followed_at': '2018-01-22T22:46:58Z'},\n",
       "       {'from_id': '56543072', 'to_id': '48684350', 'followed_at': '2018-01-22T22:07:20Z'},\n",
       "       {'from_id': '56543072', 'to_id': '107380765', 'followed_at': '2018-01-21T02:57:10Z'},\n",
       "       {'from_id': '56543072', 'to_id': '32822743', 'followed_at': '2018-01-20T07:27:50Z'},\n",
       "       {'from_id': '56543072', 'to_id': '50579102', 'followed_at': '2018-01-18T21:33:32Z'},\n",
       "       {'from_id': '56543072', 'to_id': '79846693', 'followed_at': '2018-01-18T21:29:58Z'},\n",
       "       {'from_id': '56543072', 'to_id': '137512364', 'followed_at': '2018-01-11T00:13:42Z'},\n",
       "       {'from_id': '56543072', 'to_id': '134647667', 'followed_at': '2018-01-02T22:43:03Z'},\n",
       "       {'from_id': '56543072', 'to_id': '146539840', 'followed_at': '2017-12-17T15:41:33Z'},\n",
       "       {'from_id': '56543072', 'to_id': '121758751', 'followed_at': '2017-11-19T17:47:15Z'},\n",
       "       {'from_id': '56543072', 'to_id': '116703220', 'followed_at': '2017-11-11T04:37:53Z'},\n",
       "       {'from_id': '56543072', 'to_id': '71482202', 'followed_at': '2017-11-08T22:53:44Z'},\n",
       "       {'from_id': '56543072', 'to_id': '42177420', 'followed_at': '2017-10-27T02:39:13Z'},\n",
       "       {'from_id': '56543072', 'to_id': '106423240', 'followed_at': '2017-10-27T02:39:02Z'},\n",
       "       {'from_id': '56543072', 'to_id': '44086609', 'followed_at': '2017-10-23T20:49:45Z'},\n",
       "       {'from_id': '56543072', 'to_id': '27305364', 'followed_at': '2017-10-20T19:42:13Z'},\n",
       "       {'from_id': '56543072', 'to_id': '52795976', 'followed_at': '2017-09-29T18:11:19Z'},\n",
       "       {'from_id': '56543072', 'to_id': '19571641', 'followed_at': '2017-09-23T23:25:13Z'},\n",
       "       {'from_id': '56543072', 'to_id': '59368268', 'followed_at': '2017-09-15T21:04:37Z'},\n",
       "       {'from_id': '56543072', 'to_id': '115787398', 'followed_at': '2017-09-10T16:13:19Z'},\n",
       "       {'from_id': '56543072', 'to_id': '49418475', 'followed_at': '2017-09-10T15:41:14Z'},\n",
       "       {'from_id': '56543072', 'to_id': '90283848', 'followed_at': '2017-09-06T22:05:55Z'},\n",
       "       {'from_id': '56543072', 'to_id': '14376396', 'followed_at': '2017-09-06T22:05:54Z'},\n",
       "       {'from_id': '56543072', 'to_id': '112591057', 'followed_at': '2017-09-06T22:03:50Z'},\n",
       "       {'from_id': '56543072', 'to_id': '43356746', 'followed_at': '2017-09-06T22:03:08Z'},\n",
       "       {'from_id': '56543072', 'to_id': '40271722', 'followed_at': '2017-09-06T22:03:07Z'},\n",
       "       {'from_id': '56543072', 'to_id': '123484627', 'followed_at': '2017-09-06T22:03:05Z'},\n",
       "       {'from_id': '56543072', 'to_id': '75502413', 'followed_at': '2017-09-06T22:03:02Z'},\n",
       "       {'from_id': '56543072', 'to_id': '124420521', 'followed_at': '2017-09-03T21:03:46Z'},\n",
       "       {'from_id': '56543072', 'to_id': '79049078', 'followed_at': '2017-09-02T01:14:02Z'},\n",
       "       {'from_id': '56543072', 'to_id': '37402112', 'followed_at': '2017-09-01T02:05:27Z'},\n",
       "       {'from_id': '56543072', 'to_id': '62438432', 'followed_at': '2017-08-24T18:32:11Z'},\n",
       "       {'from_id': '56543072', 'to_id': '38825436', 'followed_at': '2017-08-22T19:49:26Z'},\n",
       "       {'from_id': '56543072', 'to_id': '26490481', 'followed_at': '2017-08-11T19:36:32Z'},\n",
       "       {'from_id': '56543072', 'to_id': '96298494', 'followed_at': '2017-07-23T22:20:40Z'},\n",
       "       {'from_id': '56543072', 'to_id': '59980349', 'followed_at': '2017-07-22T02:45:06Z'},\n",
       "       {'from_id': '56543072', 'to_id': '114761975', 'followed_at': '2017-07-20T18:49:42Z'},\n",
       "       {'from_id': '56543072', 'to_id': '54706574', 'followed_at': '2017-05-19T00:15:30Z'},\n",
       "       {'from_id': '56543072', 'to_id': '47821616', 'followed_at': '2017-04-26T04:14:49Z'},\n",
       "       {'from_id': '56543072', 'to_id': '63891080', 'followed_at': '2017-04-23T22:39:01Z'},\n",
       "       {'from_id': '56543072', 'to_id': '54707885', 'followed_at': '2017-04-18T21:13:06Z'},\n",
       "       {'from_id': '56543072', 'to_id': '141713412', 'followed_at': '2017-04-17T17:10:36Z'},\n",
       "       {'from_id': '56543072', 'to_id': '36976465', 'followed_at': '2017-04-12T00:57:49Z'},\n",
       "       {'from_id': '56543072', 'to_id': '84778895', 'followed_at': '2017-04-04T05:56:31Z'},\n",
       "       {'from_id': '56543072', 'to_id': '17337557', 'followed_at': '2017-03-30T15:35:19Z'},\n",
       "       {'from_id': '56543072', 'to_id': '40992106', 'followed_at': '2017-03-28T20:32:43Z'},\n",
       "       {'from_id': '56543072', 'to_id': '26301881', 'followed_at': '2017-03-22T22:00:52Z'},\n",
       "       {'from_id': '56543072', 'to_id': '98220282', 'followed_at': '2017-03-15T19:34:16Z'},\n",
       "       {'from_id': '56543072', 'to_id': '58598067', 'followed_at': '2017-03-11T07:14:57Z'},\n",
       "       {'from_id': '56543072', 'to_id': '116798387', 'followed_at': '2017-02-26T00:50:18Z'},\n",
       "       {'from_id': '56543072', 'to_id': '56841891', 'followed_at': '2017-02-26T00:49:21Z'},\n",
       "       {'from_id': '56543072', 'to_id': '31378359', 'followed_at': '2017-02-24T01:40:35Z'},\n",
       "       {'from_id': '56543072', 'to_id': '31534976', 'followed_at': '2017-02-10T07:38:57Z'},\n",
       "       {'from_id': '56543072', 'to_id': '23257020', 'followed_at': '2017-02-08T07:23:13Z'},\n",
       "       {'from_id': '56543072', 'to_id': '55866617', 'followed_at': '2017-02-02T00:39:11Z'},\n",
       "       {'from_id': '56543072', 'to_id': '22161962', 'followed_at': '2017-02-02T00:38:58Z'},\n",
       "       {'from_id': '56543072', 'to_id': '31697309', 'followed_at': '2017-01-27T05:31:48Z'},\n",
       "       {'from_id': '56543072', 'to_id': '31160925', 'followed_at': '2017-01-26T06:43:55Z'},\n",
       "       {'from_id': '56543072', 'to_id': '50893305', 'followed_at': '2017-01-26T06:07:45Z'},\n",
       "       {'from_id': '56543072', 'to_id': '25474512', 'followed_at': '2017-01-23T18:15:51Z'},\n",
       "       {'from_id': '56543072', 'to_id': '32364276', 'followed_at': '2017-01-22T09:49:33Z'},\n",
       "       {'from_id': '56543072', 'to_id': '76278701', 'followed_at': '2018-07-14T20:56:56Z'},\n",
       "       {'from_id': '56543072', 'to_id': '50147909', 'followed_at': '2018-07-12T03:46:13Z'},\n",
       "       {'from_id': '56543072', 'to_id': '82120806', 'followed_at': '2018-07-03T23:10:49Z'},\n",
       "       {'from_id': '56543072', 'to_id': '22510310', 'followed_at': '2018-06-26T01:46:41Z'},\n",
       "       {'from_id': '56543072', 'to_id': '105911954', 'followed_at': '2018-06-20T06:57:40Z'},\n",
       "       {'from_id': '56543072', 'to_id': '55125740', 'followed_at': '2018-06-12T23:11:54Z'},\n",
       "       {'from_id': '56543072', 'to_id': '66285218', 'followed_at': '2018-06-10T00:54:43Z'},\n",
       "       {'from_id': '56543072', 'to_id': '127651530', 'followed_at': '2018-06-02T00:08:09Z'},\n",
       "       {'from_id': '56543072', 'to_id': '101134599', 'followed_at': '2018-05-26T23:00:42Z'},\n",
       "       {'from_id': '56543072', 'to_id': '29829912', 'followed_at': '2018-05-24T13:24:25Z'},\n",
       "       {'from_id': '56543072', 'to_id': '91628709', 'followed_at': '2018-05-19T18:31:10Z'},\n",
       "       {'from_id': '56543072', 'to_id': '39011402', 'followed_at': '2018-05-19T18:31:09Z'},\n",
       "       {'from_id': '56543072', 'to_id': '30032977', 'followed_at': '2018-05-05T17:46:31Z'},\n",
       "       {'from_id': '56543072', 'to_id': '130028916', 'followed_at': '2018-04-24T15:04:45Z'},\n",
       "       {'from_id': '56543072', 'to_id': '39810003', 'followed_at': '2018-04-20T07:18:43Z'},\n",
       "       {'from_id': '56543072', 'to_id': '24538518', 'followed_at': '2018-04-12T02:34:36Z'},\n",
       "       {'from_id': '56543072', 'to_id': '122975091', 'followed_at': '2018-04-03T15:42:27Z'},\n",
       "       {'from_id': '56543072', 'to_id': '195320921', 'followed_at': '2018-04-03T15:42:20Z'},\n",
       "       {'from_id': '56543072', 'to_id': '40397064', 'followed_at': '2018-04-01T01:55:55Z'},\n",
       "       {'from_id': '56543072', 'to_id': '150011257', 'followed_at': '2018-03-11T08:27:57Z'},\n",
       "       {'from_id': '56543072', 'to_id': '104170168', 'followed_at': '2018-03-06T21:19:07Z'},\n",
       "       {'from_id': '56543072', 'to_id': '25871845', 'followed_at': '2018-03-06T00:30:41Z'},\n",
       "       {'from_id': '56543072', 'to_id': '133475452', 'followed_at': '2018-03-05T01:21:27Z'},\n",
       "       {'from_id': '56543072', 'to_id': '91751921', 'followed_at': '2018-03-04T07:52:16Z'},\n",
       "       {'from_id': '56543072', 'to_id': '36029255', 'followed_at': '2018-03-03T22:22:57Z'},\n",
       "       {'from_id': '56543072', 'to_id': '73340652', 'followed_at': '2018-03-03T07:07:59Z'},\n",
       "       {'from_id': '56543072', 'to_id': '61987098', 'followed_at': '2018-02-27T22:13:42Z'},\n",
       "       {'from_id': '56543072', 'to_id': '109525045', 'followed_at': '2018-02-27T15:58:23Z'},\n",
       "       {'from_id': '56543072', 'to_id': '43062569', 'followed_at': '2018-02-26T21:34:25Z'},\n",
       "       {'from_id': '56543072', 'to_id': '85982839', 'followed_at': '2018-02-24T15:50:37Z'},\n",
       "       {'from_id': '56543072', 'to_id': '75781410', 'followed_at': '2018-02-22T16:17:30Z'},\n",
       "       {'from_id': '56543072', 'to_id': '141917465', 'followed_at': '2018-02-19T20:27:22Z'},\n",
       "       {'from_id': '56543072', 'to_id': '115137875', 'followed_at': '2018-02-17T00:16:36Z'},\n",
       "       {'from_id': '56543072', 'to_id': '73148560', 'followed_at': '2018-02-14T16:53:22Z'},\n",
       "       {'from_id': '56543072', 'to_id': '41763780', 'followed_at': '2018-02-09T00:14:25Z'},\n",
       "       {'from_id': '56543072', 'to_id': '67723589', 'followed_at': '2018-02-08T23:14:10Z'},\n",
       "       {'from_id': '56543072', 'to_id': '89886036', 'followed_at': '2018-02-03T00:56:42Z'},\n",
       "       {'from_id': '56543072', 'to_id': '65137383', 'followed_at': '2018-01-27T07:03:54Z'},\n",
       "       {'from_id': '56543072', 'to_id': '73722580', 'followed_at': '2018-01-24T15:21:25Z'},\n",
       "       {'from_id': '56543072', 'to_id': '128476677', 'followed_at': '2018-01-22T22:46:58Z'},\n",
       "       {'from_id': '56543072', 'to_id': '48684350', 'followed_at': '2018-01-22T22:07:20Z'},\n",
       "       {'from_id': '56543072', 'to_id': '107380765', 'followed_at': '2018-01-21T02:57:10Z'},\n",
       "       {'from_id': '56543072', 'to_id': '32822743', 'followed_at': '2018-01-20T07:27:50Z'},\n",
       "       {'from_id': '56543072', 'to_id': '50579102', 'followed_at': '2018-01-18T21:33:32Z'},\n",
       "       {'from_id': '56543072', 'to_id': '79846693', 'followed_at': '2018-01-18T21:29:58Z'},\n",
       "       {'from_id': '56543072', 'to_id': '137512364', 'followed_at': '2018-01-11T00:13:42Z'},\n",
       "       {'from_id': '56543072', 'to_id': '134647667', 'followed_at': '2018-01-02T22:43:03Z'},\n",
       "       {'from_id': '56543072', 'to_id': '146539840', 'followed_at': '2017-12-17T15:41:33Z'},\n",
       "       {'from_id': '56543072', 'to_id': '121758751', 'followed_at': '2017-11-19T17:47:15Z'},\n",
       "       {'from_id': '56543072', 'to_id': '116703220', 'followed_at': '2017-11-11T04:37:53Z'},\n",
       "       {'from_id': '56543072', 'to_id': '71482202', 'followed_at': '2017-11-08T22:53:44Z'},\n",
       "       {'from_id': '56543072', 'to_id': '42177420', 'followed_at': '2017-10-27T02:39:13Z'},\n",
       "       {'from_id': '56543072', 'to_id': '106423240', 'followed_at': '2017-10-27T02:39:02Z'},\n",
       "       {'from_id': '56543072', 'to_id': '44086609', 'followed_at': '2017-10-23T20:49:45Z'},\n",
       "       {'from_id': '56543072', 'to_id': '27305364', 'followed_at': '2017-10-20T19:42:13Z'},\n",
       "       {'from_id': '56543072', 'to_id': '52795976', 'followed_at': '2017-09-29T18:11:19Z'},\n",
       "       {'from_id': '56543072', 'to_id': '19571641', 'followed_at': '2017-09-23T23:25:13Z'},\n",
       "       {'from_id': '56543072', 'to_id': '59368268', 'followed_at': '2017-09-15T21:04:37Z'},\n",
       "       {'from_id': '56543072', 'to_id': '115787398', 'followed_at': '2017-09-10T16:13:19Z'},\n",
       "       {'from_id': '56543072', 'to_id': '49418475', 'followed_at': '2017-09-10T15:41:14Z'},\n",
       "       {'from_id': '56543072', 'to_id': '90283848', 'followed_at': '2017-09-06T22:05:55Z'},\n",
       "       {'from_id': '56543072', 'to_id': '14376396', 'followed_at': '2017-09-06T22:05:54Z'},\n",
       "       {'from_id': '56543072', 'to_id': '112591057', 'followed_at': '2017-09-06T22:03:50Z'},\n",
       "       {'from_id': '56543072', 'to_id': '43356746', 'followed_at': '2017-09-06T22:03:08Z'},\n",
       "       {'from_id': '56543072', 'to_id': '40271722', 'followed_at': '2017-09-06T22:03:07Z'},\n",
       "       {'from_id': '56543072', 'to_id': '123484627', 'followed_at': '2017-09-06T22:03:05Z'},\n",
       "       {'from_id': '56543072', 'to_id': '75502413', 'followed_at': '2017-09-06T22:03:02Z'},\n",
       "       {'from_id': '56543072', 'to_id': '124420521', 'followed_at': '2017-09-03T21:03:46Z'},\n",
       "       {'from_id': '56543072', 'to_id': '79049078', 'followed_at': '2017-09-02T01:14:02Z'},\n",
       "       {'from_id': '56543072', 'to_id': '37402112', 'followed_at': '2017-09-01T02:05:27Z'},\n",
       "       {'from_id': '56543072', 'to_id': '62438432', 'followed_at': '2017-08-24T18:32:11Z'},\n",
       "       {'from_id': '56543072', 'to_id': '38825436', 'followed_at': '2017-08-22T19:49:26Z'},\n",
       "       {'from_id': '56543072', 'to_id': '26490481', 'followed_at': '2017-08-11T19:36:32Z'},\n",
       "       {'from_id': '56543072', 'to_id': '96298494', 'followed_at': '2017-07-23T22:20:40Z'},\n",
       "       {'from_id': '56543072', 'to_id': '59980349', 'followed_at': '2017-07-22T02:45:06Z'},\n",
       "       {'from_id': '56543072', 'to_id': '114761975', 'followed_at': '2017-07-20T18:49:42Z'},\n",
       "       {'from_id': '56543072', 'to_id': '54706574', 'followed_at': '2017-05-19T00:15:30Z'},\n",
       "       {'from_id': '56543072', 'to_id': '47821616', 'followed_at': '2017-04-26T04:14:49Z'},\n",
       "       {'from_id': '56543072', 'to_id': '63891080', 'followed_at': '2017-04-23T22:39:01Z'}], dtype=object)"
      ]
     },
     "execution_count": 78,
     "metadata": {},
     "output_type": "execute_result"
    }
   ],
   "source": [
    "asd"
   ]
  },
  {
   "cell_type": "code",
   "execution_count": 79,
   "metadata": {},
   "outputs": [
    {
     "data": {
      "text/plain": [
       "(179,)"
      ]
     },
     "execution_count": 79,
     "metadata": {},
     "output_type": "execute_result"
    }
   ],
   "source": [
    "asd.shape"
   ]
  },
  {
   "cell_type": "code",
   "execution_count": 1,
   "metadata": {
    "collapsed": true
   },
   "outputs": [],
   "source": [
    "#testing commit capabilities"
   ]
  },
  {
   "cell_type": "code",
   "execution_count": null,
   "metadata": {
    "collapsed": true
   },
   "outputs": [],
   "source": []
  }
 ],
 "metadata": {
  "kernelspec": {
   "display_name": "Python 3",
   "language": "python",
   "name": "python3"
  },
  "language_info": {
   "codemirror_mode": {
    "name": "ipython",
    "version": 3
   },
   "file_extension": ".py",
   "mimetype": "text/x-python",
   "name": "python",
   "nbconvert_exporter": "python",
   "pygments_lexer": "ipython3",
   "version": "3.6.1"
  }
 },
 "nbformat": 4,
 "nbformat_minor": 2
}
